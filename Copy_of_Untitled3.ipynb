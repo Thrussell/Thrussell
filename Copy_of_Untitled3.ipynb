{
  "nbformat": 4,
  "nbformat_minor": 0,
  "metadata": {
    "colab": {
      "name": "Copy of Untitled3.ipynb",
      "provenance": [],
      "authorship_tag": "ABX9TyOpHTtmWfsXCgQwMAV2U7xF",
      "include_colab_link": true
    },
    "kernelspec": {
      "name": "python3",
      "display_name": "Python 3"
    },
    "language_info": {
      "name": "python"
    }
  },
  "cells": [
    {
      "cell_type": "markdown",
      "metadata": {
        "id": "view-in-github",
        "colab_type": "text"
      },
      "source": [
        "<a href=\"https://colab.research.google.com/github/Thrussell/Thrussell/blob/main/Copy_of_Untitled3.ipynb\" target=\"_parent\"><img src=\"https://colab.research.google.com/assets/colab-badge.svg\" alt=\"Open In Colab\"/></a>"
      ]
    },
    {
      "cell_type": "markdown",
      "source": [
        "This is the set of instructions or the learning"
      ],
      "metadata": {
        "id": "Nkzjyqw-snw4"
      }
    },
    {
      "cell_type": "code",
      "execution_count": null,
      "metadata": {
        "colab": {
          "base_uri": "https://localhost:8080/"
        },
        "id": "rNgKHMKusY9z",
        "outputId": "02db753e-9100-4c98-bf24-699742ad4919"
      },
      "outputs": [
        {
          "output_type": "stream",
          "name": "stdout",
          "text": [
            "dee\n",
            "Lounge\n",
            "3\n",
            "8\n",
            "3+5\n"
          ]
        }
      ],
      "source": [
        "print('dee')\n",
        "room = 'Lounge'\n",
        "print(room)\n",
        "room_name = 'Bathroom'\n",
        "priority = 3\n",
        "print(priority)\n",
        "print(3+5)\n",
        "print('3+5')"
      ]
    }
  ]
}